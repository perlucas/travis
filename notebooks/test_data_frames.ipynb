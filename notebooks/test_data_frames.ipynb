{
 "cells": [
  {
   "cell_type": "code",
   "execution_count": 2,
   "id": "6d2f9570-3cd4-415d-835f-55a9d2b55b55",
   "metadata": {},
   "outputs": [
    {
     "name": "stdout",
     "output_type": "stream",
     "text": [
      "Requirement already satisfied: pandas in /opt/conda/lib/python3.11/site-packages (2.1.1)\n",
      "Requirement already satisfied: pandas-ta in /opt/conda/lib/python3.11/site-packages (0.3.14b0)\n",
      "Requirement already satisfied: numpy>=1.23.2 in /opt/conda/lib/python3.11/site-packages (from pandas) (1.24.4)\n",
      "Requirement already satisfied: python-dateutil>=2.8.2 in /opt/conda/lib/python3.11/site-packages (from pandas) (2.8.2)\n",
      "Requirement already satisfied: pytz>=2020.1 in /opt/conda/lib/python3.11/site-packages (from pandas) (2023.3.post1)\n",
      "Requirement already satisfied: tzdata>=2022.1 in /opt/conda/lib/python3.11/site-packages (from pandas) (2023.3)\n",
      "Requirement already satisfied: six>=1.5 in /opt/conda/lib/python3.11/site-packages (from python-dateutil>=2.8.2->pandas) (1.16.0)\n"
     ]
    }
   ],
   "source": [
    "!pip install pandas pandas-ta"
   ]
  },
  {
   "cell_type": "code",
   "execution_count": 8,
   "id": "87cc456b-1038-4d9e-b8c9-54dc5350d482",
   "metadata": {},
   "outputs": [],
   "source": [
    "import pandas_ta as ta\n",
    "import pandas as pd\n",
    "import numpy as np\n",
    "import matplotlib.pyplot as plt\n",
    "\n",
    "from utils import load_dataset"
   ]
  },
  {
   "cell_type": "code",
   "execution_count": 9,
   "id": "b2c94455-3772-46b4-a276-d49250edf902",
   "metadata": {},
   "outputs": [],
   "source": [
    "df = load_dataset('./NFLX.csv')"
   ]
  },
  {
   "cell_type": "code",
   "execution_count": 10,
   "id": "749e32ad-e92a-4c18-8472-2964ca8c5b6c",
   "metadata": {},
   "outputs": [
    {
     "data": {
      "text/html": [
       "<div>\n",
       "<style scoped>\n",
       "    .dataframe tbody tr th:only-of-type {\n",
       "        vertical-align: middle;\n",
       "    }\n",
       "\n",
       "    .dataframe tbody tr th {\n",
       "        vertical-align: top;\n",
       "    }\n",
       "\n",
       "    .dataframe thead th {\n",
       "        text-align: right;\n",
       "    }\n",
       "</style>\n",
       "<table border=\"1\" class=\"dataframe\">\n",
       "  <thead>\n",
       "    <tr style=\"text-align: right;\">\n",
       "      <th></th>\n",
       "      <th>Close</th>\n",
       "      <th>Volume</th>\n",
       "      <th>Open</th>\n",
       "      <th>High</th>\n",
       "      <th>Low</th>\n",
       "    </tr>\n",
       "    <tr>\n",
       "      <th>Date</th>\n",
       "      <th></th>\n",
       "      <th></th>\n",
       "      <th></th>\n",
       "      <th></th>\n",
       "      <th></th>\n",
       "    </tr>\n",
       "  </thead>\n",
       "  <tbody>\n",
       "    <tr>\n",
       "      <th>2023-08-14</th>\n",
       "      <td>427.7800</td>\n",
       "      <td>3965963</td>\n",
       "      <td>421.9900</td>\n",
       "      <td>428.8450</td>\n",
       "      <td>418.7800</td>\n",
       "    </tr>\n",
       "    <tr>\n",
       "      <th>2023-08-11</th>\n",
       "      <td>421.6600</td>\n",
       "      <td>3927914</td>\n",
       "      <td>428.9800</td>\n",
       "      <td>430.6317</td>\n",
       "      <td>421.3277</td>\n",
       "    </tr>\n",
       "    <tr>\n",
       "      <th>2023-08-10</th>\n",
       "      <td>429.9800</td>\n",
       "      <td>5467607</td>\n",
       "      <td>431.1200</td>\n",
       "      <td>438.1200</td>\n",
       "      <td>428.6900</td>\n",
       "    </tr>\n",
       "    <tr>\n",
       "      <th>2023-08-09</th>\n",
       "      <td>428.9000</td>\n",
       "      <td>3846639</td>\n",
       "      <td>439.7400</td>\n",
       "      <td>440.6200</td>\n",
       "      <td>427.5900</td>\n",
       "    </tr>\n",
       "    <tr>\n",
       "      <th>2023-08-08</th>\n",
       "      <td>438.3000</td>\n",
       "      <td>3767195</td>\n",
       "      <td>440.3600</td>\n",
       "      <td>443.5700</td>\n",
       "      <td>435.1000</td>\n",
       "    </tr>\n",
       "    <tr>\n",
       "      <th>...</th>\n",
       "      <td>...</td>\n",
       "      <td>...</td>\n",
       "      <td>...</td>\n",
       "      <td>...</td>\n",
       "      <td>...</td>\n",
       "    </tr>\n",
       "    <tr>\n",
       "      <th>2013-08-22</th>\n",
       "      <td>38.5357</td>\n",
       "      <td>9961507</td>\n",
       "      <td>38.9314</td>\n",
       "      <td>39.0657</td>\n",
       "      <td>38.3186</td>\n",
       "    </tr>\n",
       "    <tr>\n",
       "      <th>2013-08-21</th>\n",
       "      <td>38.6243</td>\n",
       "      <td>21240197</td>\n",
       "      <td>38.9843</td>\n",
       "      <td>39.2357</td>\n",
       "      <td>38.2143</td>\n",
       "    </tr>\n",
       "    <tr>\n",
       "      <th>2013-08-20</th>\n",
       "      <td>39.0414</td>\n",
       "      <td>30108269</td>\n",
       "      <td>37.5614</td>\n",
       "      <td>39.0771</td>\n",
       "      <td>37.5000</td>\n",
       "    </tr>\n",
       "    <tr>\n",
       "      <th>2013-08-19</th>\n",
       "      <td>37.1114</td>\n",
       "      <td>15494785</td>\n",
       "      <td>36.8571</td>\n",
       "      <td>37.6428</td>\n",
       "      <td>36.8214</td>\n",
       "    </tr>\n",
       "    <tr>\n",
       "      <th>2013-08-16</th>\n",
       "      <td>36.9814</td>\n",
       "      <td>21354409</td>\n",
       "      <td>36.1728</td>\n",
       "      <td>37.1643</td>\n",
       "      <td>35.8758</td>\n",
       "    </tr>\n",
       "  </tbody>\n",
       "</table>\n",
       "<p>2515 rows × 5 columns</p>\n",
       "</div>"
      ],
      "text/plain": [
       "               Close    Volume      Open      High       Low\n",
       "Date                                                        \n",
       "2023-08-14  427.7800   3965963  421.9900  428.8450  418.7800\n",
       "2023-08-11  421.6600   3927914  428.9800  430.6317  421.3277\n",
       "2023-08-10  429.9800   5467607  431.1200  438.1200  428.6900\n",
       "2023-08-09  428.9000   3846639  439.7400  440.6200  427.5900\n",
       "2023-08-08  438.3000   3767195  440.3600  443.5700  435.1000\n",
       "...              ...       ...       ...       ...       ...\n",
       "2013-08-22   38.5357   9961507   38.9314   39.0657   38.3186\n",
       "2013-08-21   38.6243  21240197   38.9843   39.2357   38.2143\n",
       "2013-08-20   39.0414  30108269   37.5614   39.0771   37.5000\n",
       "2013-08-19   37.1114  15494785   36.8571   37.6428   36.8214\n",
       "2013-08-16   36.9814  21354409   36.1728   37.1643   35.8758\n",
       "\n",
       "[2515 rows x 5 columns]"
      ]
     },
     "execution_count": 10,
     "metadata": {},
     "output_type": "execute_result"
    }
   ],
   "source": [
    "df"
   ]
  },
  {
   "cell_type": "code",
   "execution_count": 16,
   "id": "7a62dcbf-3de0-4359-8b49-e3b4a3574524",
   "metadata": {},
   "outputs": [
    {
     "data": {
      "text/plain": [
       "Close         427.780\n",
       "Volume    3965963.000\n",
       "Open          421.990\n",
       "High          428.845\n",
       "Low           418.780\n",
       "Name: 2023-08-14 00:00:00, dtype: float64"
      ]
     },
     "execution_count": 16,
     "metadata": {},
     "output_type": "execute_result"
    }
   ],
   "source": [
    "df.iloc[0]"
   ]
  },
  {
   "cell_type": "code",
   "execution_count": 17,
   "id": "f26aa08d-7752-4f63-baf3-fe5a35c0616e",
   "metadata": {},
   "outputs": [
    {
     "data": {
      "text/plain": [
       "Close         429.98\n",
       "Volume    5467607.00\n",
       "Open          431.12\n",
       "High          438.12\n",
       "Low           428.69\n",
       "Name: 2023-08-10 00:00:00, dtype: float64"
      ]
     },
     "execution_count": 17,
     "metadata": {},
     "output_type": "execute_result"
    }
   ],
   "source": [
    "df.iloc[2]"
   ]
  },
  {
   "cell_type": "code",
   "execution_count": 5,
   "id": "4cc4b9f3-04c8-4f5c-a6b5-aee0be18a005",
   "metadata": {},
   "outputs": [],
   "source": [
    "prices = df.loc[:, 'Close'].to_numpy()"
   ]
  },
  {
   "cell_type": "code",
   "execution_count": 6,
   "id": "25025436-0305-4541-b48a-31a7a15e542b",
   "metadata": {},
   "outputs": [],
   "source": [
    "ma1 = df.ta.sma(length=20).to_numpy()\n",
    "ma1 = np.where(np.isfinite(ma1), ma1, 0)\n",
    "\n",
    "ma2 = df.ta.sma(length=50).to_numpy()\n",
    "ma2 = np.where(np.isfinite(ma2), ma2, 0)\n",
    "\n",
    "ma3 = df.ta.sma(length=100).to_numpy()\n",
    "ma3 = np.where(np.isfinite(ma3), ma3, 0)"
   ]
  },
  {
   "cell_type": "code",
   "execution_count": 7,
   "id": "f67f30c2-b6d6-4102-9ae1-6e9fea320365",
   "metadata": {},
   "outputs": [
    {
     "ename": "NameError",
     "evalue": "name 'rsi' is not defined",
     "output_type": "error",
     "traceback": [
      "\u001b[0;31m---------------------------------------------------------------------------\u001b[0m",
      "\u001b[0;31mNameError\u001b[0m                                 Traceback (most recent call last)",
      "Cell \u001b[0;32mIn[7], line 4\u001b[0m\n\u001b[1;32m      2\u001b[0m frame_end \u001b[38;5;241m=\u001b[39m \u001b[38;5;241m2000\u001b[39m\n\u001b[1;32m      3\u001b[0m prices \u001b[38;5;241m=\u001b[39m prices[frame_start:frame_end]\n\u001b[0;32m----> 4\u001b[0m rsi \u001b[38;5;241m=\u001b[39m \u001b[43mrsi\u001b[49m[frame_start:frame_end]\n\u001b[1;32m      5\u001b[0m ma1 \u001b[38;5;241m=\u001b[39m ma1[frame_start:frame_end]\n\u001b[1;32m      6\u001b[0m ma2 \u001b[38;5;241m=\u001b[39m ma2[frame_start:frame_end]\n",
      "\u001b[0;31mNameError\u001b[0m: name 'rsi' is not defined"
     ]
    }
   ],
   "source": [
    "frame_start = 1500\n",
    "frame_end = 2000\n",
    "prices = prices[frame_start:frame_end]\n",
    "#rsi = rsi[frame_start:frame_end]\n",
    "ma1 = ma1[frame_start:frame_end]\n",
    "ma2 = ma2[frame_start:frame_end]\n",
    "ma3 = ma3[frame_start:frame_end]\n",
    "prices.size"
   ]
  },
  {
   "cell_type": "code",
   "execution_count": null,
   "id": "6988ea1e-69e2-4d0f-9762-1ff91f5e0f8a",
   "metadata": {},
   "outputs": [],
   "source": [
    "plt.cla()\n",
    "plt.figure(figsize=(20, 15))\n",
    "plt.plot(prices)\n",
    "#plt.plot(rsi)\n",
    "plt.plot(ma1)\n",
    "plt.plot(ma2)\n",
    "plt.plot(ma3)\n",
    "\n",
    "frames = range(0, prices.size, 20)\n",
    "for x in frames:\n",
    "    plt.axvline(x=x, color='gray')\n",
    "#plt.show()\n",
    "plt.savefig('./test.png')"
   ]
  }
 ],
 "metadata": {
  "kernelspec": {
   "display_name": "Python 3 (ipykernel)",
   "language": "python",
   "name": "python3"
  },
  "language_info": {
   "codemirror_mode": {
    "name": "ipython",
    "version": 3
   },
   "file_extension": ".py",
   "mimetype": "text/x-python",
   "name": "python",
   "nbconvert_exporter": "python",
   "pygments_lexer": "ipython3",
   "version": "3.11.6"
  }
 },
 "nbformat": 4,
 "nbformat_minor": 5
}
